{
  "nbformat": 4,
  "nbformat_minor": 0,
  "metadata": {
    "colab": {
      "provenance": [],
      "gpuType": "T4"
    },
    "kernelspec": {
      "name": "python3",
      "display_name": "Python 3"
    },
    "language_info": {
      "name": "python"
    },
    "accelerator": "GPU"
  },
  "cells": [
    {
      "cell_type": "code",
      "source": [
        "!git clone https://github.com/serengil/deepface.git\n",
        "%cd deepface\n",
        "!pip install -e ."
      ],
      "metadata": {
        "colab": {
          "base_uri": "https://localhost:8080/"
        },
        "id": "7gOGez63XRJm",
        "outputId": "8226ddf8-9186-47a6-f9de-e14f731efa25",
        "collapsed": true
      },
      "execution_count": 1,
      "outputs": [
        {
          "output_type": "stream",
          "name": "stdout",
          "text": [
            "Cloning into 'deepface'...\n",
            "remote: Enumerating objects: 9003, done.\u001b[K\n",
            "remote: Counting objects: 100% (549/549), done.\u001b[K\n",
            "remote: Compressing objects: 100% (319/319), done.\u001b[K\n",
            "^C\n",
            "[Errno 2] No such file or directory: 'deepface'\n",
            "/content\n",
            "Obtaining file:///content\n",
            "\u001b[31mERROR: file:///content does not appear to be a Python project: neither 'setup.py' nor 'pyproject.toml' found.\u001b[0m\u001b[31m\n",
            "\u001b[0m"
          ]
        }
      ]
    },
    {
      "cell_type": "code",
      "source": [
        "from google.colab import drive\n",
        "import zipfile\n",
        "import os\n",
        "\n",
        "# Montar Google Drive\n",
        "drive.mount('/content/drive')\n",
        "\n",
        "# Rutas de tus archivos ZIP (modifica los nombres según los reales)\n",
        "zips = [\n",
        "    \"/content/drive/MyDrive/TFG_Instagram/fotos_filtradas_LPGA.zip\"\n",
        "]\n",
        "\n",
        "# Carpeta de destino base en /content\n",
        "base_destino = \"/content/\"\n",
        "os.makedirs(base_destino, exist_ok=True)\n",
        "\n",
        "# Extraer cada ZIP en su propia subcarpeta\n",
        "for zip_path in zips:\n",
        "    nombre = os.path.splitext(os.path.basename(zip_path))[0]\n",
        "    destino = os.path.join(base_destino, nombre)\n",
        "    os.makedirs(destino, exist_ok=True)\n",
        "\n",
        "    with zipfile.ZipFile(zip_path, 'r') as zip_ref:\n",
        "        zip_ref.extractall(destino)\n",
        "        print(\"Extraído\")"
      ],
      "metadata": {
        "colab": {
          "base_uri": "https://localhost:8080/",
          "height": 375
        },
        "id": "_qKk73PTXT-T",
        "outputId": "338aac72-e267-4956-953a-84828a78a8c0",
        "collapsed": true
      },
      "execution_count": 2,
      "outputs": [
        {
          "output_type": "error",
          "ename": "MessageError",
          "evalue": "Error: credential propagation was unsuccessful",
          "traceback": [
            "\u001b[0;31m---------------------------------------------------------------------------\u001b[0m",
            "\u001b[0;31mMessageError\u001b[0m                              Traceback (most recent call last)",
            "\u001b[0;32m/tmp/ipython-input-992939392.py\u001b[0m in \u001b[0;36m<cell line: 0>\u001b[0;34m()\u001b[0m\n\u001b[1;32m      4\u001b[0m \u001b[0;34m\u001b[0m\u001b[0m\n\u001b[1;32m      5\u001b[0m \u001b[0;31m# Montar Google Drive\u001b[0m\u001b[0;34m\u001b[0m\u001b[0;34m\u001b[0m\u001b[0m\n\u001b[0;32m----> 6\u001b[0;31m \u001b[0mdrive\u001b[0m\u001b[0;34m.\u001b[0m\u001b[0mmount\u001b[0m\u001b[0;34m(\u001b[0m\u001b[0;34m'/content/drive'\u001b[0m\u001b[0;34m)\u001b[0m\u001b[0;34m\u001b[0m\u001b[0;34m\u001b[0m\u001b[0m\n\u001b[0m\u001b[1;32m      7\u001b[0m \u001b[0;34m\u001b[0m\u001b[0m\n\u001b[1;32m      8\u001b[0m \u001b[0;31m# Rutas de tus archivos ZIP (modifica los nombres según los reales)\u001b[0m\u001b[0;34m\u001b[0m\u001b[0;34m\u001b[0m\u001b[0m\n",
            "\u001b[0;32m/usr/local/lib/python3.12/dist-packages/google/colab/drive.py\u001b[0m in \u001b[0;36mmount\u001b[0;34m(mountpoint, force_remount, timeout_ms, readonly)\u001b[0m\n\u001b[1;32m     95\u001b[0m \u001b[0;32mdef\u001b[0m \u001b[0mmount\u001b[0m\u001b[0;34m(\u001b[0m\u001b[0mmountpoint\u001b[0m\u001b[0;34m,\u001b[0m \u001b[0mforce_remount\u001b[0m\u001b[0;34m=\u001b[0m\u001b[0;32mFalse\u001b[0m\u001b[0;34m,\u001b[0m \u001b[0mtimeout_ms\u001b[0m\u001b[0;34m=\u001b[0m\u001b[0;36m120000\u001b[0m\u001b[0;34m,\u001b[0m \u001b[0mreadonly\u001b[0m\u001b[0;34m=\u001b[0m\u001b[0;32mFalse\u001b[0m\u001b[0;34m)\u001b[0m\u001b[0;34m:\u001b[0m\u001b[0;34m\u001b[0m\u001b[0;34m\u001b[0m\u001b[0m\n\u001b[1;32m     96\u001b[0m   \u001b[0;34m\"\"\"Mount your Google Drive at the specified mountpoint path.\"\"\"\u001b[0m\u001b[0;34m\u001b[0m\u001b[0;34m\u001b[0m\u001b[0m\n\u001b[0;32m---> 97\u001b[0;31m   return _mount(\n\u001b[0m\u001b[1;32m     98\u001b[0m       \u001b[0mmountpoint\u001b[0m\u001b[0;34m,\u001b[0m\u001b[0;34m\u001b[0m\u001b[0;34m\u001b[0m\u001b[0m\n\u001b[1;32m     99\u001b[0m       \u001b[0mforce_remount\u001b[0m\u001b[0;34m=\u001b[0m\u001b[0mforce_remount\u001b[0m\u001b[0;34m,\u001b[0m\u001b[0;34m\u001b[0m\u001b[0;34m\u001b[0m\u001b[0m\n",
            "\u001b[0;32m/usr/local/lib/python3.12/dist-packages/google/colab/drive.py\u001b[0m in \u001b[0;36m_mount\u001b[0;34m(mountpoint, force_remount, timeout_ms, ephemeral, readonly)\u001b[0m\n\u001b[1;32m    132\u001b[0m   )\n\u001b[1;32m    133\u001b[0m   \u001b[0;32mif\u001b[0m \u001b[0mephemeral\u001b[0m\u001b[0;34m:\u001b[0m\u001b[0;34m\u001b[0m\u001b[0;34m\u001b[0m\u001b[0m\n\u001b[0;32m--> 134\u001b[0;31m     _message.blocking_request(\n\u001b[0m\u001b[1;32m    135\u001b[0m         \u001b[0;34m'request_auth'\u001b[0m\u001b[0;34m,\u001b[0m\u001b[0;34m\u001b[0m\u001b[0;34m\u001b[0m\u001b[0m\n\u001b[1;32m    136\u001b[0m         \u001b[0mrequest\u001b[0m\u001b[0;34m=\u001b[0m\u001b[0;34m{\u001b[0m\u001b[0;34m'authType'\u001b[0m\u001b[0;34m:\u001b[0m \u001b[0;34m'dfs_ephemeral'\u001b[0m\u001b[0;34m}\u001b[0m\u001b[0;34m,\u001b[0m\u001b[0;34m\u001b[0m\u001b[0;34m\u001b[0m\u001b[0m\n",
            "\u001b[0;32m/usr/local/lib/python3.12/dist-packages/google/colab/_message.py\u001b[0m in \u001b[0;36mblocking_request\u001b[0;34m(request_type, request, timeout_sec, parent)\u001b[0m\n\u001b[1;32m    174\u001b[0m       \u001b[0mrequest_type\u001b[0m\u001b[0;34m,\u001b[0m \u001b[0mrequest\u001b[0m\u001b[0;34m,\u001b[0m \u001b[0mparent\u001b[0m\u001b[0;34m=\u001b[0m\u001b[0mparent\u001b[0m\u001b[0;34m,\u001b[0m \u001b[0mexpect_reply\u001b[0m\u001b[0;34m=\u001b[0m\u001b[0;32mTrue\u001b[0m\u001b[0;34m\u001b[0m\u001b[0;34m\u001b[0m\u001b[0m\n\u001b[1;32m    175\u001b[0m   )\n\u001b[0;32m--> 176\u001b[0;31m   \u001b[0;32mreturn\u001b[0m \u001b[0mread_reply_from_input\u001b[0m\u001b[0;34m(\u001b[0m\u001b[0mrequest_id\u001b[0m\u001b[0;34m,\u001b[0m \u001b[0mtimeout_sec\u001b[0m\u001b[0;34m)\u001b[0m\u001b[0;34m\u001b[0m\u001b[0;34m\u001b[0m\u001b[0m\n\u001b[0m",
            "\u001b[0;32m/usr/local/lib/python3.12/dist-packages/google/colab/_message.py\u001b[0m in \u001b[0;36mread_reply_from_input\u001b[0;34m(message_id, timeout_sec)\u001b[0m\n\u001b[1;32m    101\u001b[0m     ):\n\u001b[1;32m    102\u001b[0m       \u001b[0;32mif\u001b[0m \u001b[0;34m'error'\u001b[0m \u001b[0;32min\u001b[0m \u001b[0mreply\u001b[0m\u001b[0;34m:\u001b[0m\u001b[0;34m\u001b[0m\u001b[0;34m\u001b[0m\u001b[0m\n\u001b[0;32m--> 103\u001b[0;31m         \u001b[0;32mraise\u001b[0m \u001b[0mMessageError\u001b[0m\u001b[0;34m(\u001b[0m\u001b[0mreply\u001b[0m\u001b[0;34m[\u001b[0m\u001b[0;34m'error'\u001b[0m\u001b[0;34m]\u001b[0m\u001b[0;34m)\u001b[0m\u001b[0;34m\u001b[0m\u001b[0;34m\u001b[0m\u001b[0m\n\u001b[0m\u001b[1;32m    104\u001b[0m       \u001b[0;32mreturn\u001b[0m \u001b[0mreply\u001b[0m\u001b[0;34m.\u001b[0m\u001b[0mget\u001b[0m\u001b[0;34m(\u001b[0m\u001b[0;34m'data'\u001b[0m\u001b[0;34m,\u001b[0m \u001b[0;32mNone\u001b[0m\u001b[0;34m)\u001b[0m\u001b[0;34m\u001b[0m\u001b[0;34m\u001b[0m\u001b[0m\n\u001b[1;32m    105\u001b[0m \u001b[0;34m\u001b[0m\u001b[0m\n",
            "\u001b[0;31mMessageError\u001b[0m: Error: credential propagation was unsuccessful"
          ]
        }
      ]
    },
    {
      "cell_type": "code",
      "source": [
        "from PIL import Image\n",
        "import os\n",
        "\n",
        "# Ruta de la carpeta a analizar\n",
        "carpeta = \"/content/publicaciones_2024\"  # cámbiala si es necesario\n",
        "\n",
        "# Recorremos todos los archivos\n",
        "for archivo in os.listdir(carpeta):\n",
        "    if archivo.lower().endswith((\".jpg\")):\n",
        "        ruta = os.path.join(carpeta, archivo)\n",
        "        try:\n",
        "            with Image.open(ruta) as img:\n",
        "                img.verify()  # Verifica si la imagen es válida\n",
        "        except Exception as e:\n",
        "            print(f\"Imagen corrupta eliminada: {archivo} → {e}\")\n",
        "            os.remove(ruta)"
      ],
      "metadata": {
        "id": "-QDpz72OXW8V",
        "collapsed": true
      },
      "execution_count": null,
      "outputs": []
    },
    {
      "cell_type": "code",
      "execution_count": null,
      "metadata": {
        "id": "Ga6vgRspXMuZ",
        "collapsed": true
      },
      "outputs": [],
      "source": [
        "import os\n",
        "import pandas as pd\n",
        "from deepface import DeepFace\n",
        "import gc\n",
        "from tqdm import tqdm\n",
        "\n",
        "directorio_imagenes = \"/content/fotos_filtradas_LPGA\"\n",
        "csv_salida = \"/content/drive/MyDrive/TFG_Instagram/emociones_por_imagen_final_LPGA.csv\"\n",
        "\n",
        "resultados = []\n",
        "\n",
        "# Filtrar imágenes válidas\n",
        "imagenes = sorted([\n",
        "    f for f in os.listdir(directorio_imagenes)\n",
        "    if f.lower().endswith(\"_utc.jpg\") or f.lower().endswith(\"_utc_1.jpg\")\n",
        "])\n",
        "\n",
        "for nombre_imagen in tqdm(imagenes, desc=\"Procesando imágenes\", unit=\"img\"):\n",
        "    ruta_imagen = os.path.join(directorio_imagenes, nombre_imagen)\n",
        "    nombre_salida = nombre_imagen.replace(\"_UTC_1.jpg\", \"_UTC.jpg\")\n",
        "\n",
        "    try:\n",
        "        resultados_rostros = DeepFace.analyze(\n",
        "            img_path=ruta_imagen,\n",
        "            actions=[\"emotion\"],\n",
        "            detector_backend=\"retinaface\",\n",
        "            enforce_detection=True\n",
        "        )\n",
        "\n",
        "        if isinstance(resultados_rostros, dict):\n",
        "            resultados_rostros = [resultados_rostros]\n",
        "\n",
        "        contador = {}\n",
        "        for r in resultados_rostros:\n",
        "            emocion = r.get(\"dominant_emotion\")\n",
        "            if emocion:\n",
        "                contador[emocion] = contador.get(emocion, 0) + 1\n",
        "\n",
        "        if contador:\n",
        "            emocion_predominante = max(contador, key=contador.get)\n",
        "            total_rostros = len(resultados_rostros)\n",
        "        else:\n",
        "            emocion_predominante = \"neutral\"\n",
        "            total_rostros = 0\n",
        "\n",
        "    except Exception as e:\n",
        "        emocion_predominante = \"neutral\"\n",
        "        total_rostros = 0\n",
        "\n",
        "    resultados.append((nombre_salida, total_rostros, emocion_predominante))\n",
        "    gc.collect()\n",
        "\n",
        "# Guardar resultados\n",
        "df_resultados = pd.DataFrame(resultados, columns=[\"imagen\", \"Rostros\", \"Emoción\"])\n",
        "df_resultados.to_csv(csv_salida, index=False, sep=';')\n",
        "print(f\"Resultados guardados en: {csv_salida}\")\n",
        "\n"
      ]
    }
  ]
}