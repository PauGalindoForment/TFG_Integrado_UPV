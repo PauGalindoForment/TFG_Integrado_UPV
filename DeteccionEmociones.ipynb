{
  "nbformat": 4,
  "nbformat_minor": 0,
  "metadata": {
    "colab": {
      "provenance": [],
      "gpuType": "T4",
      "authorship_tag": "ABX9TyPEf6XUmsb7Hucv4MzJPo8+"
    },
    "kernelspec": {
      "name": "python3",
      "display_name": "Python 3"
    },
    "language_info": {
      "name": "python"
    },
    "accelerator": "GPU"
  },
  "cells": [
    {
      "cell_type": "code",
      "source": [
        "!git clone https://github.com/serengil/deepface.git\n",
        "%cd deepface\n",
        "!pip install -e ."
      ],
      "metadata": {
        "colab": {
          "base_uri": "https://localhost:8080/"
        },
        "id": "7gOGez63XRJm",
        "outputId": "1eb45492-68ce-4c3c-f90a-1865373d8c72",
        "collapsed": true
      },
      "execution_count": null,
      "outputs": [
        {
          "output_type": "stream",
          "name": "stdout",
          "text": [
            "Cloning into 'deepface'...\n",
            "remote: Enumerating objects: 8997, done.\u001b[K\n",
            "remote: Counting objects: 100% (546/546), done.\u001b[K\n",
            "remote: Compressing objects: 100% (316/316), done.\u001b[K\n",
            "remote: Total 8997 (delta 242), reused 230 (delta 230), pack-reused 8451 (from 2)\u001b[K\n",
            "Receiving objects: 100% (8997/8997), 55.20 MiB | 13.56 MiB/s, done.\n",
            "Resolving deltas: 100% (5925/5925), done.\n",
            "/content/deepface\n",
            "Obtaining file:///content/deepface\n",
            "  Preparing metadata (setup.py) ... \u001b[?25l\u001b[?25hdone\n",
            "Requirement already satisfied: requests>=2.27.1 in /usr/local/lib/python3.12/dist-packages (from deepface==0.0.96) (2.32.4)\n",
            "Requirement already satisfied: numpy>=1.14.0 in /usr/local/lib/python3.12/dist-packages (from deepface==0.0.96) (2.0.2)\n",
            "Requirement already satisfied: pandas>=0.23.4 in /usr/local/lib/python3.12/dist-packages (from deepface==0.0.96) (2.2.2)\n",
            "Requirement already satisfied: gdown>=3.10.1 in /usr/local/lib/python3.12/dist-packages (from deepface==0.0.96) (5.2.0)\n",
            "Requirement already satisfied: tqdm>=4.30.0 in /usr/local/lib/python3.12/dist-packages (from deepface==0.0.96) (4.67.1)\n",
            "Requirement already satisfied: Pillow>=5.2.0 in /usr/local/lib/python3.12/dist-packages (from deepface==0.0.96) (11.3.0)\n",
            "Requirement already satisfied: opencv-python>=4.5.5.64 in /usr/local/lib/python3.12/dist-packages (from deepface==0.0.96) (4.12.0.88)\n",
            "Requirement already satisfied: tensorflow>=1.9.0 in /usr/local/lib/python3.12/dist-packages (from deepface==0.0.96) (2.19.0)\n",
            "Requirement already satisfied: keras>=2.2.0 in /usr/local/lib/python3.12/dist-packages (from deepface==0.0.96) (3.10.0)\n",
            "Requirement already satisfied: Flask>=1.1.2 in /usr/local/lib/python3.12/dist-packages (from deepface==0.0.96) (3.1.1)\n",
            "Collecting flask_cors>=4.0.1 (from deepface==0.0.96)\n",
            "  Downloading flask_cors-6.0.1-py3-none-any.whl.metadata (5.3 kB)\n",
            "Collecting mtcnn>=0.1.0 (from deepface==0.0.96)\n",
            "  Downloading mtcnn-1.0.0-py3-none-any.whl.metadata (5.8 kB)\n",
            "Collecting retina-face>=0.0.14 (from deepface==0.0.96)\n",
            "  Downloading retina_face-0.0.17-py3-none-any.whl.metadata (10 kB)\n",
            "Collecting fire>=0.4.0 (from deepface==0.0.96)\n",
            "  Downloading fire-0.7.1-py3-none-any.whl.metadata (5.8 kB)\n",
            "Collecting gunicorn>=20.1.0 (from deepface==0.0.96)\n",
            "  Downloading gunicorn-23.0.0-py3-none-any.whl.metadata (4.4 kB)\n",
            "Requirement already satisfied: termcolor in /usr/local/lib/python3.12/dist-packages (from fire>=0.4.0->deepface==0.0.96) (3.1.0)\n",
            "Requirement already satisfied: blinker>=1.9.0 in /usr/local/lib/python3.12/dist-packages (from Flask>=1.1.2->deepface==0.0.96) (1.9.0)\n",
            "Requirement already satisfied: click>=8.1.3 in /usr/local/lib/python3.12/dist-packages (from Flask>=1.1.2->deepface==0.0.96) (8.2.1)\n",
            "Requirement already satisfied: itsdangerous>=2.2.0 in /usr/local/lib/python3.12/dist-packages (from Flask>=1.1.2->deepface==0.0.96) (2.2.0)\n",
            "Requirement already satisfied: jinja2>=3.1.2 in /usr/local/lib/python3.12/dist-packages (from Flask>=1.1.2->deepface==0.0.96) (3.1.6)\n",
            "Requirement already satisfied: markupsafe>=2.1.1 in /usr/local/lib/python3.12/dist-packages (from Flask>=1.1.2->deepface==0.0.96) (3.0.2)\n",
            "Requirement already satisfied: werkzeug>=3.1.0 in /usr/local/lib/python3.12/dist-packages (from Flask>=1.1.2->deepface==0.0.96) (3.1.3)\n",
            "Requirement already satisfied: beautifulsoup4 in /usr/local/lib/python3.12/dist-packages (from gdown>=3.10.1->deepface==0.0.96) (4.13.4)\n",
            "Requirement already satisfied: filelock in /usr/local/lib/python3.12/dist-packages (from gdown>=3.10.1->deepface==0.0.96) (3.19.1)\n",
            "Requirement already satisfied: packaging in /usr/local/lib/python3.12/dist-packages (from gunicorn>=20.1.0->deepface==0.0.96) (25.0)\n",
            "Requirement already satisfied: absl-py in /usr/local/lib/python3.12/dist-packages (from keras>=2.2.0->deepface==0.0.96) (1.4.0)\n",
            "Requirement already satisfied: rich in /usr/local/lib/python3.12/dist-packages (from keras>=2.2.0->deepface==0.0.96) (13.9.4)\n",
            "Requirement already satisfied: namex in /usr/local/lib/python3.12/dist-packages (from keras>=2.2.0->deepface==0.0.96) (0.1.0)\n",
            "Requirement already satisfied: h5py in /usr/local/lib/python3.12/dist-packages (from keras>=2.2.0->deepface==0.0.96) (3.14.0)\n",
            "Requirement already satisfied: optree in /usr/local/lib/python3.12/dist-packages (from keras>=2.2.0->deepface==0.0.96) (0.17.0)\n",
            "Requirement already satisfied: ml-dtypes in /usr/local/lib/python3.12/dist-packages (from keras>=2.2.0->deepface==0.0.96) (0.5.3)\n",
            "Requirement already satisfied: joblib>=1.4.2 in /usr/local/lib/python3.12/dist-packages (from mtcnn>=0.1.0->deepface==0.0.96) (1.5.1)\n",
            "Collecting lz4>=4.3.3 (from mtcnn>=0.1.0->deepface==0.0.96)\n",
            "  Downloading lz4-4.4.4-cp312-cp312-manylinux_2_17_x86_64.manylinux2014_x86_64.whl.metadata (3.8 kB)\n",
            "Requirement already satisfied: python-dateutil>=2.8.2 in /usr/local/lib/python3.12/dist-packages (from pandas>=0.23.4->deepface==0.0.96) (2.9.0.post0)\n",
            "Requirement already satisfied: pytz>=2020.1 in /usr/local/lib/python3.12/dist-packages (from pandas>=0.23.4->deepface==0.0.96) (2025.2)\n",
            "Requirement already satisfied: tzdata>=2022.7 in /usr/local/lib/python3.12/dist-packages (from pandas>=0.23.4->deepface==0.0.96) (2025.2)\n",
            "Requirement already satisfied: charset_normalizer<4,>=2 in /usr/local/lib/python3.12/dist-packages (from requests>=2.27.1->deepface==0.0.96) (3.4.3)\n",
            "Requirement already satisfied: idna<4,>=2.5 in /usr/local/lib/python3.12/dist-packages (from requests>=2.27.1->deepface==0.0.96) (3.10)\n",
            "Requirement already satisfied: urllib3<3,>=1.21.1 in /usr/local/lib/python3.12/dist-packages (from requests>=2.27.1->deepface==0.0.96) (2.5.0)\n",
            "Requirement already satisfied: certifi>=2017.4.17 in /usr/local/lib/python3.12/dist-packages (from requests>=2.27.1->deepface==0.0.96) (2025.8.3)\n",
            "Requirement already satisfied: astunparse>=1.6.0 in /usr/local/lib/python3.12/dist-packages (from tensorflow>=1.9.0->deepface==0.0.96) (1.6.3)\n",
            "Requirement already satisfied: flatbuffers>=24.3.25 in /usr/local/lib/python3.12/dist-packages (from tensorflow>=1.9.0->deepface==0.0.96) (25.2.10)\n",
            "Requirement already satisfied: gast!=0.5.0,!=0.5.1,!=0.5.2,>=0.2.1 in /usr/local/lib/python3.12/dist-packages (from tensorflow>=1.9.0->deepface==0.0.96) (0.6.0)\n",
            "Requirement already satisfied: google-pasta>=0.1.1 in /usr/local/lib/python3.12/dist-packages (from tensorflow>=1.9.0->deepface==0.0.96) (0.2.0)\n",
            "Requirement already satisfied: libclang>=13.0.0 in /usr/local/lib/python3.12/dist-packages (from tensorflow>=1.9.0->deepface==0.0.96) (18.1.1)\n",
            "Requirement already satisfied: opt-einsum>=2.3.2 in /usr/local/lib/python3.12/dist-packages (from tensorflow>=1.9.0->deepface==0.0.96) (3.4.0)\n",
            "Requirement already satisfied: protobuf!=4.21.0,!=4.21.1,!=4.21.2,!=4.21.3,!=4.21.4,!=4.21.5,<6.0.0dev,>=3.20.3 in /usr/local/lib/python3.12/dist-packages (from tensorflow>=1.9.0->deepface==0.0.96) (5.29.5)\n",
            "Requirement already satisfied: setuptools in /usr/local/lib/python3.12/dist-packages (from tensorflow>=1.9.0->deepface==0.0.96) (75.2.0)\n",
            "Requirement already satisfied: six>=1.12.0 in /usr/local/lib/python3.12/dist-packages (from tensorflow>=1.9.0->deepface==0.0.96) (1.17.0)\n",
            "Requirement already satisfied: typing-extensions>=3.6.6 in /usr/local/lib/python3.12/dist-packages (from tensorflow>=1.9.0->deepface==0.0.96) (4.14.1)\n",
            "Requirement already satisfied: wrapt>=1.11.0 in /usr/local/lib/python3.12/dist-packages (from tensorflow>=1.9.0->deepface==0.0.96) (1.17.3)\n",
            "Requirement already satisfied: grpcio<2.0,>=1.24.3 in /usr/local/lib/python3.12/dist-packages (from tensorflow>=1.9.0->deepface==0.0.96) (1.74.0)\n",
            "Requirement already satisfied: tensorboard~=2.19.0 in /usr/local/lib/python3.12/dist-packages (from tensorflow>=1.9.0->deepface==0.0.96) (2.19.0)\n",
            "Requirement already satisfied: wheel<1.0,>=0.23.0 in /usr/local/lib/python3.12/dist-packages (from astunparse>=1.6.0->tensorflow>=1.9.0->deepface==0.0.96) (0.45.1)\n",
            "Requirement already satisfied: markdown>=2.6.8 in /usr/local/lib/python3.12/dist-packages (from tensorboard~=2.19.0->tensorflow>=1.9.0->deepface==0.0.96) (3.8.2)\n",
            "Requirement already satisfied: tensorboard-data-server<0.8.0,>=0.7.0 in /usr/local/lib/python3.12/dist-packages (from tensorboard~=2.19.0->tensorflow>=1.9.0->deepface==0.0.96) (0.7.2)\n",
            "Requirement already satisfied: soupsieve>1.2 in /usr/local/lib/python3.12/dist-packages (from beautifulsoup4->gdown>=3.10.1->deepface==0.0.96) (2.7)\n",
            "Requirement already satisfied: PySocks!=1.5.7,>=1.5.6 in /usr/local/lib/python3.12/dist-packages (from requests[socks]->gdown>=3.10.1->deepface==0.0.96) (1.7.1)\n",
            "Requirement already satisfied: markdown-it-py>=2.2.0 in /usr/local/lib/python3.12/dist-packages (from rich->keras>=2.2.0->deepface==0.0.96) (4.0.0)\n",
            "Requirement already satisfied: pygments<3.0.0,>=2.13.0 in /usr/local/lib/python3.12/dist-packages (from rich->keras>=2.2.0->deepface==0.0.96) (2.19.2)\n",
            "Requirement already satisfied: mdurl~=0.1 in /usr/local/lib/python3.12/dist-packages (from markdown-it-py>=2.2.0->rich->keras>=2.2.0->deepface==0.0.96) (0.1.2)\n",
            "Downloading fire-0.7.1-py3-none-any.whl (115 kB)\n",
            "\u001b[2K   \u001b[90m━━━━━━━━━━━━━━━━━━━━━━━━━━━━━━━━━━━━━━━━\u001b[0m \u001b[32m115.9/115.9 kB\u001b[0m \u001b[31m10.7 MB/s\u001b[0m eta \u001b[36m0:00:00\u001b[0m\n",
            "\u001b[?25hDownloading flask_cors-6.0.1-py3-none-any.whl (13 kB)\n",
            "Downloading gunicorn-23.0.0-py3-none-any.whl (85 kB)\n",
            "\u001b[2K   \u001b[90m━━━━━━━━━━━━━━━━━━━━━━━━━━━━━━━━━━━━━━━━\u001b[0m \u001b[32m85.0/85.0 kB\u001b[0m \u001b[31m7.8 MB/s\u001b[0m eta \u001b[36m0:00:00\u001b[0m\n",
            "\u001b[?25hDownloading mtcnn-1.0.0-py3-none-any.whl (1.9 MB)\n",
            "\u001b[2K   \u001b[90m━━━━━━━━━━━━━━━━━━━━━━━━━━━━━━━━━━━━━━━━\u001b[0m \u001b[32m1.9/1.9 MB\u001b[0m \u001b[31m63.3 MB/s\u001b[0m eta \u001b[36m0:00:00\u001b[0m\n",
            "\u001b[?25hDownloading retina_face-0.0.17-py3-none-any.whl (25 kB)\n",
            "Downloading lz4-4.4.4-cp312-cp312-manylinux_2_17_x86_64.manylinux2014_x86_64.whl (1.3 MB)\n",
            "\u001b[2K   \u001b[90m━━━━━━━━━━━━━━━━━━━━━━━━━━━━━━━━━━━━━━━━\u001b[0m \u001b[32m1.3/1.3 MB\u001b[0m \u001b[31m65.6 MB/s\u001b[0m eta \u001b[36m0:00:00\u001b[0m\n",
            "\u001b[?25hInstalling collected packages: lz4, gunicorn, fire, mtcnn, flask_cors, retina-face, deepface\n",
            "  Running setup.py develop for deepface\n",
            "Successfully installed deepface-0.0.96 fire-0.7.1 flask_cors-6.0.1 gunicorn-23.0.0 lz4-4.4.4 mtcnn-1.0.0 retina-face-0.0.17\n"
          ]
        }
      ]
    },
    {
      "cell_type": "code",
      "source": [
        "from google.colab import drive\n",
        "import zipfile\n",
        "import os\n",
        "\n",
        "# Montar Google Drive\n",
        "drive.mount('/content/drive')\n",
        "\n",
        "# Rutas de tus archivos ZIP (modifica los nombres según los reales)\n",
        "zips = [\n",
        "    \"/content/drive/MyDrive/TFG_Instagram/fotos_filtradas_LPGA.zip\"\n",
        "]\n",
        "\n",
        "# Carpeta de destino base en /content\n",
        "base_destino = \"/content/\"\n",
        "os.makedirs(base_destino, exist_ok=True)\n",
        "\n",
        "# Extraer cada ZIP en su propia subcarpeta\n",
        "for zip_path in zips:\n",
        "    nombre = os.path.splitext(os.path.basename(zip_path))[0]\n",
        "    destino = os.path.join(base_destino, nombre)\n",
        "    os.makedirs(destino, exist_ok=True)\n",
        "\n",
        "    with zipfile.ZipFile(zip_path, 'r') as zip_ref:\n",
        "        zip_ref.extractall(destino)\n",
        "        print(\"Extraído\")"
      ],
      "metadata": {
        "colab": {
          "base_uri": "https://localhost:8080/"
        },
        "id": "_qKk73PTXT-T",
        "outputId": "93f44749-3efb-4493-ee1c-fff76c20c2d7",
        "collapsed": true
      },
      "execution_count": null,
      "outputs": [
        {
          "output_type": "stream",
          "name": "stdout",
          "text": [
            "Mounted at /content/drive\n",
            "Extraído\n"
          ]
        }
      ]
    },
    {
      "cell_type": "code",
      "source": [
        "from PIL import Image\n",
        "import os\n",
        "\n",
        "# Ruta de la carpeta a analizar\n",
        "carpeta = \"/content/publicaciones_2024\"  # cámbiala si es necesario\n",
        "\n",
        "# Recorremos todos los archivos\n",
        "for archivo in os.listdir(carpeta):\n",
        "    if archivo.lower().endswith((\".jpg\")):\n",
        "        ruta = os.path.join(carpeta, archivo)\n",
        "        try:\n",
        "            with Image.open(ruta) as img:\n",
        "                img.verify()  # Verifica si la imagen es válida\n",
        "        except Exception as e:\n",
        "            print(f\"Imagen corrupta eliminada: {archivo} → {e}\")\n",
        "            os.remove(ruta)"
      ],
      "metadata": {
        "colab": {
          "base_uri": "https://localhost:8080/"
        },
        "id": "-QDpz72OXW8V",
        "outputId": "7244527a-b10e-4fa5-f53d-1fbdf55374dc",
        "collapsed": true
      },
      "execution_count": null,
      "outputs": [
        {
          "output_type": "stream",
          "name": "stdout",
          "text": [
            "Imagen corrupta eliminada: jsmunoz23_2024-10-05_00-27-16_UTC_3.jpg → cannot identify image file '/content/publicaciones_2024/jsmunoz23_2024-10-05_00-27-16_UTC_3.jpg'\n",
            "Imagen corrupta eliminada: jsmunoz23_2024-09-23_14-59-13_UTC_2.jpg → cannot identify image file '/content/publicaciones_2024/jsmunoz23_2024-09-23_14-59-13_UTC_2.jpg'\n",
            "Imagen corrupta eliminada: jsmunoz23_2024-09-22_21-29-02_UTC.jpg → cannot identify image file '/content/publicaciones_2024/jsmunoz23_2024-09-22_21-29-02_UTC.jpg'\n",
            "Imagen corrupta eliminada: badds_2024-05-21_01-29-35_UTC_1.jpg → cannot identify image file '/content/publicaciones_2024/badds_2024-05-21_01-29-35_UTC_1.jpg'\n",
            "Imagen corrupta eliminada: jsmunoz23_2024-10-05_00-27-16_UTC_2.jpg → cannot identify image file '/content/publicaciones_2024/jsmunoz23_2024-10-05_00-27-16_UTC_2.jpg'\n",
            "Imagen corrupta eliminada: jsmunoz23_2024-10-02_23-10-14_UTC_1.jpg → cannot identify image file '/content/publicaciones_2024/jsmunoz23_2024-10-02_23-10-14_UTC_1.jpg'\n",
            "Imagen corrupta eliminada: jsmunoz23_2024-10-02_23-10-14_UTC_3.jpg → cannot identify image file '/content/publicaciones_2024/jsmunoz23_2024-10-02_23-10-14_UTC_3.jpg'\n",
            "Imagen corrupta eliminada: jsmunoz23_2024-10-05_00-27-16_UTC_4.jpg → cannot identify image file '/content/publicaciones_2024/jsmunoz23_2024-10-05_00-27-16_UTC_4.jpg'\n",
            "Imagen corrupta eliminada: jsmunoz23_2024-09-23_14-59-13_UTC_1.jpg → cannot identify image file '/content/publicaciones_2024/jsmunoz23_2024-09-23_14-59-13_UTC_1.jpg'\n",
            "Imagen corrupta eliminada: jsmunoz23_2024-10-05_00-27-16_UTC_10.jpg → cannot identify image file '/content/publicaciones_2024/jsmunoz23_2024-10-05_00-27-16_UTC_10.jpg'\n",
            "Imagen corrupta eliminada: jsmunoz23_2024-09-23_14-59-13_UTC_3.jpg → cannot identify image file '/content/publicaciones_2024/jsmunoz23_2024-09-23_14-59-13_UTC_3.jpg'\n",
            "Imagen corrupta eliminada: jsmunoz23_2024-10-02_23-10-14_UTC_2.jpg → cannot identify image file '/content/publicaciones_2024/jsmunoz23_2024-10-02_23-10-14_UTC_2.jpg'\n",
            "Imagen corrupta eliminada: jsmunoz23_2024-10-05_00-27-16_UTC_1.jpg → cannot identify image file '/content/publicaciones_2024/jsmunoz23_2024-10-05_00-27-16_UTC_1.jpg'\n",
            "Imagen corrupta eliminada: jsmunoz23_2024-10-05_00-27-16_UTC_11.jpg → cannot identify image file '/content/publicaciones_2024/jsmunoz23_2024-10-05_00-27-16_UTC_11.jpg'\n",
            "Imagen corrupta eliminada: jsmunoz23_2024-10-02_23-10-14_UTC_4.jpg → cannot identify image file '/content/publicaciones_2024/jsmunoz23_2024-10-02_23-10-14_UTC_4.jpg'\n",
            "Imagen corrupta eliminada: badds_2024-05-21_01-29-35_UTC_2.jpg → cannot identify image file '/content/publicaciones_2024/badds_2024-05-21_01-29-35_UTC_2.jpg'\n"
          ]
        }
      ]
    },
    {
      "cell_type": "code",
      "execution_count": null,
      "metadata": {
        "colab": {
          "base_uri": "https://localhost:8080/"
        },
        "id": "Ga6vgRspXMuZ",
        "outputId": "6a889d27-3f62-4cbe-a755-4ce8b13d4e10",
        "collapsed": true
      },
      "outputs": [
        {
          "output_type": "stream",
          "name": "stdout",
          "text": [
            "25-07-26 12:29:27 - Directory /root/.deepface has been created\n",
            "25-07-26 12:29:27 - Directory /root/.deepface/weights has been created\n"
          ]
        },
        {
          "output_type": "stream",
          "name": "stderr",
          "text": [
            "\rProcesando imágenes:   0%|          | 0/6679 [00:00<?, ?img/s]"
          ]
        },
        {
          "output_type": "stream",
          "name": "stdout",
          "text": [
            "25-07-26 12:29:31 - retinaface.h5 will be downloaded from the url https://github.com/serengil/deepface_models/releases/download/v1.0/retinaface.h5\n"
          ]
        },
        {
          "output_type": "stream",
          "name": "stderr",
          "text": [
            "Downloading...\n",
            "From: https://github.com/serengil/deepface_models/releases/download/v1.0/retinaface.h5\n",
            "To: /root/.deepface/weights/retinaface.h5\n",
            "\n",
            "  0%|          | 0.00/119M [00:00<?, ?B/s]\u001b[A\n",
            "  9%|▉         | 11.0M/119M [00:00<00:02, 38.5MB/s]\u001b[A\n",
            " 18%|█▊        | 21.5M/119M [00:00<00:02, 38.0MB/s]\u001b[A\n",
            " 27%|██▋       | 32.0M/119M [00:00<00:02, 34.6MB/s]\u001b[A\n",
            " 36%|███▌      | 42.5M/119M [00:01<00:02, 35.3MB/s]\u001b[A\n",
            " 39%|███▉      | 46.1M/119M [00:01<00:02, 26.7MB/s]\u001b[A\n",
            " 42%|████▏     | 49.3M/119M [00:01<00:03, 21.4MB/s]\u001b[A\n",
            " 44%|████▎     | 51.9M/119M [00:01<00:03, 19.2MB/s]\u001b[A\n",
            " 46%|████▌     | 54.0M/119M [00:02<00:06, 10.2MB/s]\u001b[A\n",
            " 53%|█████▎    | 63.4M/119M [00:02<00:03, 16.0MB/s]\u001b[A\n",
            " 62%|██████▏   | 73.9M/119M [00:03<00:02, 22.1MB/s]\u001b[A\n",
            " 71%|███████   | 84.4M/119M [00:03<00:01, 17.9MB/s]\u001b[A\n",
            " 80%|███████▉  | 94.9M/119M [00:04<00:01, 22.2MB/s]\u001b[A\n",
            " 89%|████████▉ | 105M/119M [00:04<00:00, 21.8MB/s] \u001b[A\n",
            " 91%|█████████ | 108M/119M [00:04<00:00, 22.0MB/s]\u001b[A\n",
            "100%|██████████| 119M/119M [00:05<00:00, 23.0MB/s]\n"
          ]
        },
        {
          "output_type": "stream",
          "name": "stdout",
          "text": [
            "25-07-26 12:29:44 - 🔗 facial_expression_model_weights.h5 will be downloaded from https://github.com/serengil/deepface_models/releases/download/v1.0/facial_expression_model_weights.h5 to /root/.deepface/weights/facial_expression_model_weights.h5...\n"
          ]
        },
        {
          "output_type": "stream",
          "name": "stderr",
          "text": [
            "Downloading...\n",
            "From: https://github.com/serengil/deepface_models/releases/download/v1.0/facial_expression_model_weights.h5\n",
            "To: /root/.deepface/weights/facial_expression_model_weights.h5\n",
            "\n",
            "100%|██████████| 5.98M/5.98M [00:00<00:00, 343MB/s]\n",
            "Procesando imágenes: 100%|██████████| 6679/6679 [48:28<00:00,  2.30img/s]"
          ]
        },
        {
          "output_type": "stream",
          "name": "stdout",
          "text": [
            "Resultados guardados en: /content/drive/MyDrive/TFG_Instagram/emociones_por_imagen_final_LPGA.csv\n"
          ]
        },
        {
          "output_type": "stream",
          "name": "stderr",
          "text": [
            "\n"
          ]
        }
      ],
      "source": [
        "import os\n",
        "import pandas as pd\n",
        "from deepface import DeepFace\n",
        "import gc\n",
        "from tqdm import tqdm\n",
        "\n",
        "directorio_imagenes = \"/content/fotos_filtradas_LPGA\"\n",
        "csv_salida = \"/content/drive/MyDrive/TFG_Instagram/emociones_por_imagen_final_LPGA.csv\"\n",
        "\n",
        "resultados = []\n",
        "\n",
        "# Filtrar imágenes válidas\n",
        "imagenes = sorted([\n",
        "    f for f in os.listdir(directorio_imagenes)\n",
        "    if f.lower().endswith(\"_utc.jpg\") or f.lower().endswith(\"_utc_1.jpg\")\n",
        "])\n",
        "\n",
        "for nombre_imagen in tqdm(imagenes, desc=\"Procesando imágenes\", unit=\"img\"):\n",
        "    ruta_imagen = os.path.join(directorio_imagenes, nombre_imagen)\n",
        "    nombre_salida = nombre_imagen.replace(\"_UTC_1.jpg\", \"_UTC.jpg\")\n",
        "\n",
        "    try:\n",
        "        resultados_rostros = DeepFace.analyze(\n",
        "            img_path=ruta_imagen,\n",
        "            actions=[\"emotion\"],\n",
        "            detector_backend=\"retinaface\",\n",
        "            enforce_detection=True\n",
        "        )\n",
        "\n",
        "        if isinstance(resultados_rostros, dict):\n",
        "            resultados_rostros = [resultados_rostros]\n",
        "\n",
        "        contador = {}\n",
        "        for r in resultados_rostros:\n",
        "            emocion = r.get(\"dominant_emotion\")\n",
        "            if emocion:\n",
        "                contador[emocion] = contador.get(emocion, 0) + 1\n",
        "\n",
        "        if contador:\n",
        "            emocion_predominante = max(contador, key=contador.get)\n",
        "            total_rostros = len(resultados_rostros)\n",
        "        else:\n",
        "            emocion_predominante = \"neutral\"\n",
        "            total_rostros = 0\n",
        "\n",
        "    except Exception as e:\n",
        "        emocion_predominante = \"neutral\"\n",
        "        total_rostros = 0\n",
        "\n",
        "    resultados.append((nombre_salida, total_rostros, emocion_predominante))\n",
        "    gc.collect()\n",
        "\n",
        "# Guardar resultados\n",
        "df_resultados = pd.DataFrame(resultados, columns=[\"imagen\", \"Rostros\", \"Emoción\"])\n",
        "df_resultados.to_csv(csv_salida, index=False, sep=';')\n",
        "print(f\"Resultados guardados en: {csv_salida}\")\n",
        "\n"
      ]
    }
  ]
}