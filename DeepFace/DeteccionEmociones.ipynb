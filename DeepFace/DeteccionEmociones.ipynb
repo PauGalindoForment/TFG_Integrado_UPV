{
  "nbformat": 4,
  "nbformat_minor": 0,
  "metadata": {
    "colab": {
      "provenance": [],
      "gpuType": "T4",
      "authorship_tag": "ABX9TyPEf6XUmsb7Hucv4MzJPo8+"
    },
    "kernelspec": {
      "name": "python3",
      "display_name": "Python 3"
    },
    "language_info": {
      "name": "python"
    },
    "accelerator": "GPU"
  },
  "cells": [
    {
      "cell_type": "code",
      "source": [
        "!git clone https://github.com/serengil/deepface.git\n",
        "%cd deepface\n",
        "!pip install -e ."
      ],
      "metadata": {
        "id": "7gOGez63XRJm",
        "collapsed": true
      },
      "execution_count": null,
      "outputs": []
    },
    {
      "cell_type": "code",
      "source": [
        "from google.colab import drive\n",
        "import zipfile\n",
        "import os\n",
        "\n",
        "# Montar Google Drive\n",
        "drive.mount('/content/drive')\n",
        "\n",
        "# Rutas de tus archivos ZIP (modifica los nombres según los reales)\n",
        "zips = [\n",
        "    \"/content/drive/MyDrive/TFG_Instagram/fotos_filtradas_LPGA.zip\"\n",
        "]\n",
        "\n",
        "# Carpeta de destino base en /content\n",
        "base_destino = \"/content/\"\n",
        "os.makedirs(base_destino, exist_ok=True)\n",
        "\n",
        "# Extraer cada ZIP en su propia subcarpeta\n",
        "for zip_path in zips:\n",
        "    nombre = os.path.splitext(os.path.basename(zip_path))[0]\n",
        "    destino = os.path.join(base_destino, nombre)\n",
        "    os.makedirs(destino, exist_ok=True)\n",
        "\n",
        "    with zipfile.ZipFile(zip_path, 'r') as zip_ref:\n",
        "        zip_ref.extractall(destino)\n",
        "        print(\"Extraído\")"
      ],
      "metadata": {
        "id": "_qKk73PTXT-T",
        "collapsed": true
      },
      "execution_count": null,
      "outputs": []
    },
    {
      "cell_type": "code",
      "source": [
        "from PIL import Image\n",
        "import os\n",
        "\n",
        "# Ruta de la carpeta a analizar\n",
        "carpeta = \"/content/publicaciones_2024\"  # cámbiala si es necesario\n",
        "\n",
        "# Recorremos todos los archivos\n",
        "for archivo in os.listdir(carpeta):\n",
        "    if archivo.lower().endswith((\".jpg\")):\n",
        "        ruta = os.path.join(carpeta, archivo)\n",
        "        try:\n",
        "            with Image.open(ruta) as img:\n",
        "                img.verify()  # Verifica si la imagen es válida\n",
        "        except Exception as e:\n",
        "            print(f\"Imagen corrupta eliminada: {archivo} → {e}\")\n",
        "            os.remove(ruta)"
      ],
      "metadata": {
        "id": "-QDpz72OXW8V",
        "collapsed": true
      },
      "execution_count": null,
      "outputs": []
    },
    {
      "cell_type": "code",
      "execution_count": null,
      "metadata": {
        "id": "Ga6vgRspXMuZ",
        "collapsed": true
      },
      "outputs": [],
      "source": [
        "import os\n",
        "import pandas as pd\n",
        "from deepface import DeepFace\n",
        "import gc\n",
        "from tqdm import tqdm\n",
        "\n",
        "directorio_imagenes = \"/content/fotos_filtradas_LPGA\"\n",
        "csv_salida = \"/content/drive/MyDrive/TFG_Instagram/emociones_por_imagen_final_LPGA.csv\"\n",
        "\n",
        "resultados = []\n",
        "\n",
        "# Filtrar imágenes válidas\n",
        "imagenes = sorted([\n",
        "    f for f in os.listdir(directorio_imagenes)\n",
        "    if f.lower().endswith(\"_utc.jpg\") or f.lower().endswith(\"_utc_1.jpg\")\n",
        "])\n",
        "\n",
        "for nombre_imagen in tqdm(imagenes, desc=\"Procesando imágenes\", unit=\"img\"):\n",
        "    ruta_imagen = os.path.join(directorio_imagenes, nombre_imagen)\n",
        "    nombre_salida = nombre_imagen.replace(\"_UTC_1.jpg\", \"_UTC.jpg\")\n",
        "\n",
        "    try:\n",
        "        resultados_rostros = DeepFace.analyze(\n",
        "            img_path=ruta_imagen,\n",
        "            actions=[\"emotion\"],\n",
        "            detector_backend=\"retinaface\",\n",
        "            enforce_detection=True\n",
        "        )\n",
        "\n",
        "        if isinstance(resultados_rostros, dict):\n",
        "            resultados_rostros = [resultados_rostros]\n",
        "\n",
        "        contador = {}\n",
        "        for r in resultados_rostros:\n",
        "            emocion = r.get(\"dominant_emotion\")\n",
        "            if emocion:\n",
        "                contador[emocion] = contador.get(emocion, 0) + 1\n",
        "\n",
        "        if contador:\n",
        "            emocion_predominante = max(contador, key=contador.get)\n",
        "            total_rostros = len(resultados_rostros)\n",
        "        else:\n",
        "            emocion_predominante = \"neutral\"\n",
        "            total_rostros = 0\n",
        "\n",
        "    except Exception as e:\n",
        "        emocion_predominante = \"neutral\"\n",
        "        total_rostros = 0\n",
        "\n",
        "    resultados.append((nombre_salida, total_rostros, emocion_predominante))\n",
        "    gc.collect()\n",
        "\n",
        "# Guardar resultados\n",
        "df_resultados = pd.DataFrame(resultados, columns=[\"imagen\", \"Rostros\", \"Emoción\"])\n",
        "df_resultados.to_csv(csv_salida, index=False, sep=';')\n",
        "print(f\"Resultados guardados en: {csv_salida}\")\n",
        "\n"
      ]
    }
  ]
}